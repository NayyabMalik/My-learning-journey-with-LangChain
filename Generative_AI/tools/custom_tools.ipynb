{
 "cells": [
  {
   "cell_type": "markdown",
   "id": "77e782ad",
   "metadata": {},
   "source": [
    "# Method 1:TOOL Decorator and Type Hunting"
   ]
  },
  {
   "cell_type": "code",
   "execution_count": null,
   "id": "66eb5b74",
   "metadata": {},
   "outputs": [],
   "source": [
    "from langchain_community.tools import tool"
   ]
  },
  {
   "cell_type": "code",
   "execution_count": 17,
   "id": "cd207e21",
   "metadata": {},
   "outputs": [],
   "source": [
    "## step 1: create a function \n",
    "def mul(a,b):\n",
    "    \"\"\"multiply two strings\"\"\"\n",
    "    return a*b"
   ]
  },
  {
   "cell_type": "code",
   "execution_count": 18,
   "id": "0c53eca3",
   "metadata": {},
   "outputs": [],
   "source": [
    "\n",
    "# step 2: type hinting\n",
    "def mul(a:int,b:int)->int:\n",
    "    \"\"\"ultiply two strings\"\"\"\n",
    "    return a*b\n"
   ]
  },
  {
   "cell_type": "code",
   "execution_count": 19,
   "id": "4a89a4cc",
   "metadata": {},
   "outputs": [],
   "source": [
    "\n",
    "# step 3:add @tool decorator\n",
    "@tool\n",
    "def mul(a:int,b:int)->int:\n",
    "    \"\"\"ultiply two strings\"\"\"\n",
    "    return a*b\n"
   ]
  },
  {
   "cell_type": "code",
   "execution_count": 20,
   "id": "07e56332",
   "metadata": {},
   "outputs": [],
   "source": [
    "result=mul.invoke({\"a\":1,\"b\":2})"
   ]
  },
  {
   "cell_type": "code",
   "execution_count": 21,
   "id": "41bf0575",
   "metadata": {},
   "outputs": [
    {
     "name": "stdout",
     "output_type": "stream",
     "text": [
      "2\n"
     ]
    }
   ],
   "source": [
    "print(result)"
   ]
  },
  {
   "cell_type": "code",
   "execution_count": 22,
   "id": "aa8253ba",
   "metadata": {},
   "outputs": [
    {
     "name": "stdout",
     "output_type": "stream",
     "text": [
      "mul\n",
      "ultiply two strings\n",
      "{'a': {'title': 'A', 'type': 'integer'}, 'b': {'title': 'B', 'type': 'integer'}}\n"
     ]
    }
   ],
   "source": [
    "print(mul.name)\n",
    "print(mul.description)\n",
    "print(mul.args)"
   ]
  },
  {
   "cell_type": "markdown",
   "id": "ada2a75b",
   "metadata": {},
   "source": [
    "# Method 2: Structure Tool and Pydantic "
   ]
  },
  {
   "cell_type": "code",
   "execution_count": 31,
   "id": "c293bd58",
   "metadata": {},
   "outputs": [],
   "source": [
    "from langchain_community.tools import StructuredTool\n",
    "from pydantic import BaseModel,Field\n",
    "class mulInput(BaseModel):\n",
    "    a:int=Field(description=\"the first number to multiply\")\n",
    "    b:int=Field(description=\"the second number to multiply\")\n"
   ]
  },
  {
   "cell_type": "code",
   "execution_count": 28,
   "id": "602575cc",
   "metadata": {},
   "outputs": [],
   "source": [
    "def mul(a,b):\n",
    "    return a*b"
   ]
  },
  {
   "cell_type": "code",
   "execution_count": 32,
   "id": "54c53358",
   "metadata": {},
   "outputs": [],
   "source": [
    "multiply_tool=StructuredTool.from_function(\n",
    "    func=mul,\n",
    "    description=\"multiply two numbers\",\n",
    "    name=\"multiply\",\n",
    "    args_schema=mulInput\n",
    ")"
   ]
  },
  {
   "cell_type": "code",
   "execution_count": 33,
   "id": "3d379a29",
   "metadata": {},
   "outputs": [
    {
     "name": "stdout",
     "output_type": "stream",
     "text": [
      "132\n"
     ]
    }
   ],
   "source": [
    "result=multiply_tool.invoke({\"a\":11,\"b\":12})\n",
    "print(result)"
   ]
  },
  {
   "cell_type": "code",
   "execution_count": 35,
   "id": "d7fbbb3c",
   "metadata": {},
   "outputs": [
    {
     "name": "stdout",
     "output_type": "stream",
     "text": [
      "multiply\n",
      "multiply two numbers\n",
      "{'a': {'description': 'the first number to multiply', 'title': 'A', 'type': 'integer'}, 'b': {'description': 'the second number to multiply', 'title': 'B', 'type': 'integer'}}\n"
     ]
    }
   ],
   "source": [
    "print(multiply_tool.name)\n",
    "print(multiply_tool.description)\n",
    "print(multiply_tool.args)"
   ]
  },
  {
   "cell_type": "markdown",
   "id": "4358e1d0",
   "metadata": {},
   "source": [
    "# Method 3:Basetool"
   ]
  },
  {
   "cell_type": "code",
   "execution_count": null,
   "id": "3a655ba7",
   "metadata": {},
   "outputs": [],
   "source": [
    "from langchain_community.tools import BaseTool\n",
    "from typing import Type\n",
    "from pydantic import BaseModel,Field\n"
   ]
  },
  {
   "cell_type": "code",
   "execution_count": 40,
   "id": "93c1b3a0",
   "metadata": {},
   "outputs": [],
   "source": [
    "class mulInput(BaseModel):\n",
    "    a:int=Field(description=\"the first number to multiply\")\n",
    "    b:int=Field(description=\"the second number to multiply\")\n"
   ]
  },
  {
   "cell_type": "code",
   "execution_count": 44,
   "id": "18947b49",
   "metadata": {},
   "outputs": [],
   "source": [
    "class multiply_tool(BaseTool):\n",
    "    name:str=\"multiply\"\n",
    "    description:str=\"multiply two numbers\"\n",
    "    args_schema:Type[BaseModel]=mulInput\n",
    "\n",
    "    def _run(self,a,b):  # name of function never change \n",
    "        return a*b"
   ]
  },
  {
   "cell_type": "code",
   "execution_count": 47,
   "id": "93118faa",
   "metadata": {},
   "outputs": [
    {
     "name": "stdout",
     "output_type": "stream",
     "text": [
      "6\n"
     ]
    }
   ],
   "source": [
    "mul_tool=multiply_tool()\n",
    "result=mul_tool.invoke({\"a\":2,\"b\":3})\n",
    "print(result)"
   ]
  },
  {
   "cell_type": "code",
   "execution_count": null,
   "id": "44ee0844",
   "metadata": {},
   "outputs": [],
   "source": []
  }
 ],
 "metadata": {
  "kernelspec": {
   "display_name": "venv",
   "language": "python",
   "name": "python3"
  },
  "language_info": {
   "codemirror_mode": {
    "name": "ipython",
    "version": 3
   },
   "file_extension": ".py",
   "mimetype": "text/x-python",
   "name": "python",
   "nbconvert_exporter": "python",
   "pygments_lexer": "ipython3",
   "version": "3.12.5"
  }
 },
 "nbformat": 4,
 "nbformat_minor": 5
}
