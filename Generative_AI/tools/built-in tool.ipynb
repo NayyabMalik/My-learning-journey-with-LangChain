{
 "cells": [
  {
   "cell_type": "markdown",
   "id": "e23926a6",
   "metadata": {},
   "source": [
    "## Duck Duck Go Search"
   ]
  },
  {
   "cell_type": "code",
   "execution_count": 7,
   "id": "2fb509bb",
   "metadata": {},
   "outputs": [
    {
     "name": "stderr",
     "output_type": "stream",
     "text": [
      "c:\\Users\\PMLS\\Documents\\LangChain\\venv\\Lib\\site-packages\\langchain_community\\utilities\\duckduckgo_search.py:63: RuntimeWarning: This package (`duckduckgo_search`) has been renamed to `ddgs`! Use `pip install ddgs` instead.\n",
      "  with DDGS() as ddgs:\n"
     ]
    },
    {
     "name": "stdout",
     "output_type": "stream",
     "text": [
      "Pakistan’s most trusted outlet for the breaking, latest and top news across the country and the world.EPAPER LIVE TV DAWNNEWS URDU Images Herald Aurora CityFM89 …Pakistan’s most trusted outlet for the breaking, latest and top news across the …Pakistan will reject Israel’s outrageous Gaza plan at OIC Dar to arrive in Jeddah today … Pakistan News: Get the latest breaking news and news updates from Pakistan. Find all current Pakistani news about events, incidents, issues, people from Pakistan. Pakistan Latest & Breaking News updates on Politics, Current Affairs, Sports,Technology, Entertainment & Business all at one place.. Read the latest Pakistan news, today's breaking news, top news headlines and stay up to date with live coverage on Politics, Current Affairs, Sports, Entertainment, Technology, Business at … 3 days ago · Stay on top of Pakistan latest developments on the ground with Al Jazeera’s fact-based news, exclusive video footage, photos and updated maps.\n"
     ]
    }
   ],
   "source": [
    "from langchain_community.tools import DuckDuckGoSearchRun\n",
    "search_tool=DuckDuckGoSearchRun()\n",
    "result=search_tool.invoke(\"give me a news about pakistan current issues ?\")\n",
    "print(result)"
   ]
  },
  {
   "cell_type": "code",
   "execution_count": 11,
   "id": "f471992c",
   "metadata": {},
   "outputs": [
    {
     "name": "stdout",
     "output_type": "stream",
     "text": [
      "Executing command:\n",
      " whoami\n",
      "desktop-8bl3mig\\pmyls\n",
      "\n"
     ]
    },
    {
     "name": "stderr",
     "output_type": "stream",
     "text": [
      "c:\\Users\\PMLS\\Documents\\LangChain\\venv\\Lib\\site-packages\\langchain_community\\tools\\shell\\tool.py:33: UserWarning: The shell tool has no safeguards by default. Use at your own risk.\n",
      "  warnings.warn(\n"
     ]
    }
   ],
   "source": [
    "from langchain_community.tools import ShellTool\n",
    "shell_tool=ShellTool()\n",
    "result=shell_tool.invoke(\"whoami\")\n",
    "print(result)"
   ]
  },
  {
   "cell_type": "code",
   "execution_count": null,
   "id": "0894bbd2",
   "metadata": {},
   "outputs": [
    {
     "name": "stdout",
     "output_type": "stream",
     "text": [
      "{'success': False, 'error': {'code': 101, 'type': 'invalid_access_key', 'info': 'You have not supplied a valid API Access Key. [Technical Support: support@apilayer.com]'}}\n"
     ]
    }
   ],
   "source": [
    "import requests\n",
    "\n",
    "API_KEY = \"341cf458bd5cef531e12bd4e422127e9\"  # your real key\n",
    "CITY = \"Karachi\"\n",
    "\n",
    "url = f\"http://api.weatherapi.com/v1/current.json?key=weather_api&q=Karachi\"\n",
    "\n",
    "response = requests.get(url)\n",
    "data = response.json()\n",
    "\n",
    "print(data)\n"
   ]
  },
  {
   "cell_type": "code",
   "execution_count": null,
   "id": "28657165",
   "metadata": {},
   "outputs": [],
   "source": []
  }
 ],
 "metadata": {
  "kernelspec": {
   "display_name": "venv",
   "language": "python",
   "name": "python3"
  },
  "language_info": {
   "codemirror_mode": {
    "name": "ipython",
    "version": 3
   },
   "file_extension": ".py",
   "mimetype": "text/x-python",
   "name": "python",
   "nbconvert_exporter": "python",
   "pygments_lexer": "ipython3",
   "version": "3.12.5"
  }
 },
 "nbformat": 4,
 "nbformat_minor": 5
}
