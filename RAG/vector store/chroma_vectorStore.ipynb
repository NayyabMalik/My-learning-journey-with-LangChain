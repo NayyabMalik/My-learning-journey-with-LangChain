{
 "cells": [
  {
   "cell_type": "code",
   "execution_count": 22,
   "id": "0eb198bc",
   "metadata": {},
   "outputs": [],
   "source": [
    "from langchain_huggingface.embeddings import HuggingFaceEmbeddings\n",
    "from langchain.schema import Document\n",
    "from langchain.vectorstores import Chroma\n",
    "\n",
    "# Use a stable embedding model\n",
    "embedding = HuggingFaceEmbeddings(model_name=\"sentence-transformers/all-MiniLM-L6-v2\")\n",
    "\n",
    "# Documents\n",
    "docs = [\n",
    "    Document(\n",
    "        page_content=\"Babar Azam is one of the most stylish and consistent batsmen in modern cricket.\",\n",
    "        metadata={\"team\": \"Karachi Kings\"}\n",
    "    ),\n",
    "    Document(\n",
    "        page_content=\"Shan Masood is a solid top-order batsman.\",\n",
    "        metadata={\"team\": \"Multan Sultans\"}\n",
    "    ),\n",
    "    Document(\n",
    "        page_content=\"Shoaib Malik, a veteran all-rounder.\",\n",
    "        metadata={\"team\": \"Peshawar Zalmi\"}\n",
    "    ),\n",
    "    Document(\n",
    "        page_content=\"Shaheen Afridi is one of the premier fast bowlers.\",\n",
    "        metadata={\"team\": \"Lahore Qalandars\"}\n",
    "    ),\n",
    "    Document(\n",
    "        page_content=\"Fakhar Zaman is a destructive opening batsman.\",\n",
    "        metadata={\"team\": \"Islamabad United\"}\n",
    "    )\n",
    "]\n"
   ]
  },
  {
   "cell_type": "code",
   "execution_count": 23,
   "id": "6e980562",
   "metadata": {},
   "outputs": [],
   "source": [
    "# Create vector store\n",
    "vector_store = Chroma(\n",
    "    embedding_function=embedding,\n",
    "    collection_name=\"sample\",\n",
    "    persist_directory=\"chroma_db\"\n",
    ")"
   ]
  },
  {
   "cell_type": "code",
   "execution_count": null,
   "id": "c43cd108",
   "metadata": {},
   "outputs": [
    {
     "name": "stdout",
     "output_type": "stream",
     "text": [
      "{'ids': ['0e6b2c9e-1198-4cf4-9914-8615da749749', 'a0bc017f-6fe2-4be2-9f16-e511a1e540d1', '303fcb43-0493-45a3-8e97-12af0f7c45f9', 'c61a0210-87c7-490b-8c8f-0db40c971113', 'bd44af84-546e-49b2-94c0-751ab30a0d62', '15a038e9-b30e-4aca-8b11-e4d7bc52cb54', '35bc92a5-70ad-4b50-9e01-c2340073ef8d', '480ec437-5506-4d08-83ec-1c5f24bacbfb', '6c1e3bba-9546-4ed8-8cf4-06e298acbd33', '71750c59-1b53-45cd-9f08-10c108edbbb1'], 'embeddings': None, 'documents': ['Babar Azam is one of the most stylish and consistent batsmen in modern cricket.', 'Shan Masood is a solid top-order batsman.', 'Shoaib Malik, a veteran all-rounder.', 'Shaheen Afridi is one of the premier fast bowlers.', 'Fakhar Zaman is a destructive opening batsman.', 'Babar Azam is one of the most stylish and consistent batsmen in modern cricket.', 'Shan Masood is a solid top-order batsman.', 'Shoaib Malik, a veteran all-rounder.', 'Shaheen Afridi is one of the premier fast bowlers.', 'Fakhar Zaman is a destructive opening batsman.'], 'uris': None, 'included': ['metadatas', 'documents'], 'data': None, 'metadatas': [{'team': 'Karachi Kings'}, {'team': 'Multan Sultans'}, {'team': 'Peshawar Zalmi'}, {'team': 'Lahore Qalandars'}, {'team': 'Islamabad United'}, {'team': 'Karachi Kings'}, {'team': 'Multan Sultans'}, {'team': 'Peshawar Zalmi'}, {'team': 'Lahore Qalandars'}, {'team': 'Islamabad United'}]}\n"
     ]
    }
   ],
   "source": [
    "# Add documents\n",
    "vector_store.add_documents(docs)\n",
    "\n",
    "# Persist\n",
    "vector_store.persist()\n",
    "\n"
   ]
  },
  {
   "cell_type": "code",
   "execution_count": null,
   "id": "ee5c44a6",
   "metadata": {},
   "outputs": [
    {
     "name": "stdout",
     "output_type": "stream",
     "text": [
      "{'ids': ['0e6b2c9e-1198-4cf4-9914-8615da749749', 'a0bc017f-6fe2-4be2-9f16-e511a1e540d1', '303fcb43-0493-45a3-8e97-12af0f7c45f9', 'c61a0210-87c7-490b-8c8f-0db40c971113', 'bd44af84-546e-49b2-94c0-751ab30a0d62', '15a038e9-b30e-4aca-8b11-e4d7bc52cb54', '35bc92a5-70ad-4b50-9e01-c2340073ef8d', '480ec437-5506-4d08-83ec-1c5f24bacbfb', '6c1e3bba-9546-4ed8-8cf4-06e298acbd33', '71750c59-1b53-45cd-9f08-10c108edbbb1'], 'embeddings': None, 'documents': ['Babar Azam is one of the most stylish and consistent batsmen in modern cricket.', 'Shan Masood is a solid top-order batsman.', 'Shoaib Malik, a veteran all-rounder.', 'Shaheen Afridi is one of the premier fast bowlers.', 'Fakhar Zaman is a destructive opening batsman.', 'Babar Azam is one of the most stylish and consistent batsmen in modern cricket.', 'Shan Masood is a solid top-order batsman.', 'Shoaib Malik, a veteran all-rounder.', 'Shaheen Afridi is one of the premier fast bowlers.', 'Fakhar Zaman is a destructive opening batsman.'], 'uris': None, 'included': ['metadatas', 'documents'], 'data': None, 'metadatas': [{'team': 'Karachi Kings'}, {'team': 'Multan Sultans'}, {'team': 'Peshawar Zalmi'}, {'team': 'Lahore Qalandars'}, {'team': 'Islamabad United'}, {'team': 'Karachi Kings'}, {'team': 'Multan Sultans'}, {'team': 'Peshawar Zalmi'}, {'team': 'Lahore Qalandars'}, {'team': 'Islamabad United'}]}\n"
     ]
    }
   ],
   "source": [
    "# Check metadata and documents\n",
    "\n",
    "print(vector_store.get(include=[\"metadatas\", \"documents\"]))\n"
   ]
  },
  {
   "cell_type": "code",
   "execution_count": 26,
   "id": "fe0dfa62",
   "metadata": {},
   "outputs": [
    {
     "name": "stdout",
     "output_type": "stream",
     "text": [
      "{'ids': ['0e6b2c9e-1198-4cf4-9914-8615da749749', 'a0bc017f-6fe2-4be2-9f16-e511a1e540d1', '303fcb43-0493-45a3-8e97-12af0f7c45f9', 'c61a0210-87c7-490b-8c8f-0db40c971113', 'bd44af84-546e-49b2-94c0-751ab30a0d62', '15a038e9-b30e-4aca-8b11-e4d7bc52cb54', '35bc92a5-70ad-4b50-9e01-c2340073ef8d', '480ec437-5506-4d08-83ec-1c5f24bacbfb', '6c1e3bba-9546-4ed8-8cf4-06e298acbd33', '71750c59-1b53-45cd-9f08-10c108edbbb1'], 'embeddings': array([[ 0.01091086,  0.03126683, -0.14648952, ..., -0.07961893,\n",
      "        -0.00374227, -0.01499702],\n",
      "       [ 0.04164712, -0.00928451, -0.00303885, ..., -0.06843381,\n",
      "         0.05586556,  0.00038842],\n",
      "       [-0.03041375,  0.03073549, -0.07586268, ..., -0.04603247,\n",
      "         0.02403524,  0.00690805],\n",
      "       ...,\n",
      "       [-0.03041375,  0.03073549, -0.07586268, ..., -0.04603247,\n",
      "         0.02403524,  0.00690805],\n",
      "       [-0.00469202,  0.01975277, -0.06494538, ..., -0.05647345,\n",
      "         0.07361937, -0.02279896],\n",
      "       [ 0.02229059,  0.0785325 , -0.06662194, ..., -0.07336239,\n",
      "         0.03357422,  0.02439713]], shape=(10, 384)), 'documents': None, 'uris': None, 'included': ['embeddings'], 'data': None, 'metadatas': None}\n"
     ]
    }
   ],
   "source": [
    "print(vector_store.get(include=[\"embeddings\"]))\n"
   ]
  },
  {
   "cell_type": "code",
   "execution_count": 28,
   "id": "e0d75269",
   "metadata": {},
   "outputs": [
    {
     "data": {
      "text/plain": [
       "[Document(metadata={'team': 'Lahore Qalandars'}, page_content='Shaheen Afridi is one of the premier fast bowlers.'),\n",
       " Document(metadata={'team': 'Lahore Qalandars'}, page_content='Shaheen Afridi is one of the premier fast bowlers.')]"
      ]
     },
     "execution_count": 28,
     "metadata": {},
     "output_type": "execute_result"
    }
   ],
   "source": [
    "## similarity search \n",
    "vector_store.similarity_search(\n",
    "    query=\"who is shahid afridi\",\n",
    "    k=2\n",
    ")"
   ]
  },
  {
   "cell_type": "code",
   "execution_count": null,
   "id": "b9f31c24",
   "metadata": {},
   "outputs": [
    {
     "data": {
      "text/plain": [
       "[(Document(metadata={'team': 'Lahore Qalandars'}, page_content='Shaheen Afridi is one of the premier fast bowlers.'),\n",
       "  0.521966814994812),\n",
       " (Document(metadata={'team': 'Lahore Qalandars'}, page_content='Shaheen Afridi is one of the premier fast bowlers.'),\n",
       "  0.521966814994812)]"
      ]
     },
     "execution_count": 29,
     "metadata": {},
     "output_type": "execute_result"
    }
   ],
   "source": [
    "vector_store.similarity_search_with_score(   ## less score means small distance snd better response\n",
    "    query=\"who is shahid afridi\",\n",
    "    k=2)"
   ]
  },
  {
   "cell_type": "code",
   "execution_count": 34,
   "id": "b2edc395",
   "metadata": {},
   "outputs": [
    {
     "data": {
      "text/plain": [
       "[(Document(metadata={'team': 'Peshawar Zalmi'}, page_content='Shoaib Malik, a veteran all-rounder.'),\n",
       "  1.6533385515213013),\n",
       " (Document(metadata={'team': 'Peshawar Zalmi'}, page_content='Shoaib Malik, a veteran all-rounder.'),\n",
       "  1.6533385515213013)]"
      ]
     },
     "execution_count": 35,
     "metadata": {},
     "output_type": "execute_result"
    }
   ],
   "source": [
    "\n",
    "## searching based on metadata\n",
    "vector_store.similarity_search_with_score(   ## less score means small distance snd better response\n",
    "    query=\"\",\n",
    "    filter={\"team\":\"Peshawar Zalmi\"},\n",
    "    k=2\n",
    "    )"
   ]
  },
  {
   "cell_type": "code",
   "execution_count": null,
   "id": "843f4290",
   "metadata": {},
   "outputs": [
    {
     "ename": "AttributeError",
     "evalue": "'str' object has no attribute 'page_content'",
     "output_type": "error",
     "traceback": [
      "\u001b[31m---------------------------------------------------------------------------\u001b[39m",
      "\u001b[31mAttributeError\u001b[39m                            Traceback (most recent call last)",
      "\u001b[36mCell\u001b[39m\u001b[36m \u001b[39m\u001b[32mIn[36]\u001b[39m\u001b[32m, line 3\u001b[39m\n\u001b[32m      1\u001b[39m \u001b[38;5;66;03m## update document\u001b[39;00m\n\u001b[32m      2\u001b[39m update_shan_masood=\u001b[33m\"\"\"\u001b[39m\u001b[33mA solid and technically sound left-hand opener, Shan Masood made it to the international side after impressing consistently at junior-level cricket. With Pakistan struggling to put together a solid opening combination, Masood was the option they turned to in the Test series against South Africa in the UAE.\u001b[39m\u001b[33m\"\"\"\u001b[39m\n\u001b[32m----> \u001b[39m\u001b[32m3\u001b[39m \u001b[43mvector_store\u001b[49m\u001b[43m.\u001b[49m\u001b[43mupdate_document\u001b[49m\u001b[43m(\u001b[49m\n\u001b[32m      4\u001b[39m \u001b[43m    \u001b[49m\u001b[43mdocument_id\u001b[49m\u001b[43m=\u001b[49m\u001b[33;43m\"\u001b[39;49m\u001b[33;43ma0bc017f-6fe2-4be2-9f16-e511a1e540d1\u001b[39;49m\u001b[33;43m\"\u001b[39;49m\u001b[43m,\u001b[49m\n\u001b[32m      5\u001b[39m \u001b[43m    \u001b[49m\u001b[43mdocument\u001b[49m\u001b[43m=\u001b[49m\u001b[43mupdate_shan_masood\u001b[49m\n\u001b[32m      6\u001b[39m \u001b[43m)\u001b[49m\n",
      "\u001b[36mFile \u001b[39m\u001b[32mc:\\Users\\PMLS\\Documents\\LangChain\\venv\\Lib\\site-packages\\langchain_community\\vectorstores\\chroma.py:738\u001b[39m, in \u001b[36mChroma.update_document\u001b[39m\u001b[34m(self, document_id, document)\u001b[39m\n\u001b[32m    731\u001b[39m \u001b[38;5;28;01mdef\u001b[39;00m\u001b[38;5;250m \u001b[39m\u001b[34mupdate_document\u001b[39m(\u001b[38;5;28mself\u001b[39m, document_id: \u001b[38;5;28mstr\u001b[39m, document: Document) -> \u001b[38;5;28;01mNone\u001b[39;00m:\n\u001b[32m    732\u001b[39m \u001b[38;5;250m    \u001b[39m\u001b[33;03m\"\"\"Update a document in the collection.\u001b[39;00m\n\u001b[32m    733\u001b[39m \n\u001b[32m    734\u001b[39m \u001b[33;03m    Args:\u001b[39;00m\n\u001b[32m    735\u001b[39m \u001b[33;03m        document_id (str): ID of the document to update.\u001b[39;00m\n\u001b[32m    736\u001b[39m \u001b[33;03m        document (Document): Document to update.\u001b[39;00m\n\u001b[32m    737\u001b[39m \u001b[33;03m    \"\"\"\u001b[39;00m\n\u001b[32m--> \u001b[39m\u001b[32m738\u001b[39m     \u001b[38;5;28;01mreturn\u001b[39;00m \u001b[38;5;28;43mself\u001b[39;49m\u001b[43m.\u001b[49m\u001b[43mupdate_documents\u001b[49m\u001b[43m(\u001b[49m\u001b[43m[\u001b[49m\u001b[43mdocument_id\u001b[49m\u001b[43m]\u001b[49m\u001b[43m,\u001b[49m\u001b[43m \u001b[49m\u001b[43m[\u001b[49m\u001b[43mdocument\u001b[49m\u001b[43m]\u001b[49m\u001b[43m)\u001b[49m\n",
      "\u001b[36mFile \u001b[39m\u001b[32mc:\\Users\\PMLS\\Documents\\LangChain\\venv\\Lib\\site-packages\\langchain_community\\vectorstores\\chroma.py:747\u001b[39m, in \u001b[36mChroma.update_documents\u001b[39m\u001b[34m(self, ids, documents)\u001b[39m\n\u001b[32m    740\u001b[39m \u001b[38;5;28;01mdef\u001b[39;00m\u001b[38;5;250m \u001b[39m\u001b[34mupdate_documents\u001b[39m(\u001b[38;5;28mself\u001b[39m, ids: List[\u001b[38;5;28mstr\u001b[39m], documents: List[Document]) -> \u001b[38;5;28;01mNone\u001b[39;00m:\n\u001b[32m    741\u001b[39m \u001b[38;5;250m    \u001b[39m\u001b[33;03m\"\"\"Update a document in the collection.\u001b[39;00m\n\u001b[32m    742\u001b[39m \n\u001b[32m    743\u001b[39m \u001b[33;03m    Args:\u001b[39;00m\n\u001b[32m    744\u001b[39m \u001b[33;03m        ids (List[str]): List of ids of the document to update.\u001b[39;00m\n\u001b[32m    745\u001b[39m \u001b[33;03m        documents (List[Document]): List of documents to update.\u001b[39;00m\n\u001b[32m    746\u001b[39m \u001b[33;03m    \"\"\"\u001b[39;00m\n\u001b[32m--> \u001b[39m\u001b[32m747\u001b[39m     text = [\u001b[43mdocument\u001b[49m\u001b[43m.\u001b[49m\u001b[43mpage_content\u001b[49m \u001b[38;5;28;01mfor\u001b[39;00m document \u001b[38;5;129;01min\u001b[39;00m documents]\n\u001b[32m    748\u001b[39m     metadata = [document.metadata \u001b[38;5;28;01mfor\u001b[39;00m document \u001b[38;5;129;01min\u001b[39;00m documents]\n\u001b[32m    749\u001b[39m     \u001b[38;5;28;01mif\u001b[39;00m \u001b[38;5;28mself\u001b[39m._embedding_function \u001b[38;5;129;01mis\u001b[39;00m \u001b[38;5;28;01mNone\u001b[39;00m:\n",
      "\u001b[31mAttributeError\u001b[39m: 'str' object has no attribute 'page_content'"
     ]
    }
   ],
   "source": [
    "## update document\n",
    "update_shan_masood=Document(\n",
    "    page_content=\"\"\"A solid and technically sound left-hand opener, \n",
    "    Shan Masood made it to the international side after impressing consistently at junior-level cricket. With Pakistan struggling to put together a solid opening combination, \n",
    "    Masood was the option they turned to in the Test series against South Africa in the UAE.\"\"\",\n",
    "        metadata={\"team\": \"Multan Sultans\"}\n",
    ")\n",
    "vector_store.update_document(\n",
    "    document_id=\"a0bc017f-6fe2-4be2-9f16-e511a1e540d1\",\n",
    "    document=update_shan_masood\n",
    ")"
   ]
  },
  {
   "cell_type": "code",
   "execution_count": null,
   "id": "594f2609",
   "metadata": {},
   "outputs": [],
   "source": []
  }
 ],
 "metadata": {
  "kernelspec": {
   "display_name": "venv",
   "language": "python",
   "name": "python3"
  },
  "language_info": {
   "codemirror_mode": {
    "name": "ipython",
    "version": 3
   },
   "file_extension": ".py",
   "mimetype": "text/x-python",
   "name": "python",
   "nbconvert_exporter": "python",
   "pygments_lexer": "ipython3",
   "version": "3.12.5"
  }
 },
 "nbformat": 4,
 "nbformat_minor": 5
}
