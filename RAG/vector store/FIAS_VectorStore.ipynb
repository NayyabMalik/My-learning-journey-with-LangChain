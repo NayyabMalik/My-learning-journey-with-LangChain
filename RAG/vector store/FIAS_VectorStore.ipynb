{
 "cells": [
  {
   "cell_type": "code",
   "execution_count": 1,
   "id": "17357c95",
   "metadata": {},
   "outputs": [
    {
     "name": "stderr",
     "output_type": "stream",
     "text": [
      "c:\\Users\\PMLS\\Documents\\LangChain\\venv\\Lib\\site-packages\\tqdm\\auto.py:21: TqdmWarning: IProgress not found. Please update jupyter and ipywidgets. See https://ipywidgets.readthedocs.io/en/stable/user_install.html\n",
      "  from .autonotebook import tqdm as notebook_tqdm\n"
     ]
    }
   ],
   "source": [
    "from langchain_huggingface.embeddings import HuggingFaceEmbeddings\n",
    "from langchain.schema import Document\n",
    "from langchain.vectorstores import FAISS\n",
    "\n",
    "# Use a stable embedding model\n",
    "embedding = HuggingFaceEmbeddings(model_name=\"sentence-transformers/all-MiniLM-L6-v2\")\n",
    "\n",
    "# Documents\n",
    "docs = [\n",
    "    Document(\n",
    "        page_content=\"Babar Azam is one of the most stylish and consistent batsmen in modern cricket.\",\n",
    "        metadata={\"team\": \"Karachi Kings\"}\n",
    "    ),\n",
    "    Document(\n",
    "        page_content=\"Shan Masood is a solid top-order batsman.\",\n",
    "        metadata={\"team\": \"Multan Sultans\"}\n",
    "    ),\n",
    "    Document(\n",
    "        page_content=\"Shoaib Malik, a veteran all-rounder.\",\n",
    "        metadata={\"team\": \"Peshawar Zalmi\"}\n",
    "    ),\n",
    "    Document(\n",
    "        page_content=\"Shaheen Afridi is one of the premier fast bowlers.\",\n",
    "        metadata={\"team\": \"Lahore Qalandars\"}\n",
    "    ),\n",
    "    Document(\n",
    "        page_content=\"Fakhar Zaman is a destructive opening batsman.\",\n",
    "        metadata={\"team\": \"Islamabad United\"}\n",
    "    )\n",
    "]\n"
   ]
  },
  {
   "cell_type": "code",
   "execution_count": 3,
   "id": "2d677d17",
   "metadata": {},
   "outputs": [],
   "source": [
    "vector_Store=FAISS.from_documents(\n",
    "    docs,embedding\n",
    ")"
   ]
  },
  {
   "cell_type": "code",
   "execution_count": 4,
   "id": "69cc4afc",
   "metadata": {},
   "outputs": [
    {
     "data": {
      "text/plain": [
       "['6463d3c2-ff72-45c6-a582-6fe065a74b6b',\n",
       " 'f7ba3b7f-fada-4f81-8c9d-f2a6249fee65',\n",
       " '0b76e286-fb49-46ca-a65c-11c2714c2e84',\n",
       " '930986ca-f44b-4b1a-aab3-2f790ca7feda',\n",
       " 'a75568be-6e41-487a-bfa3-5a9204e62a6b']"
      ]
     },
     "execution_count": 4,
     "metadata": {},
     "output_type": "execute_result"
    }
   ],
   "source": [
    "vector_Store.add_documents(docs)"
   ]
  },
  {
   "cell_type": "code",
   "execution_count": 8,
   "id": "26c0f441",
   "metadata": {},
   "outputs": [
    {
     "data": {
      "text/plain": [
       "[(Document(id='00f38304-3ff1-4836-80d8-3553185584fa', metadata={'team': 'Peshawar Zalmi'}, page_content='Shoaib Malik, a veteran all-rounder.'),\n",
       "  np.float32(1.186903))]"
      ]
     },
     "execution_count": 8,
     "metadata": {},
     "output_type": "execute_result"
    }
   ],
   "source": [
    "vector_Store.similarity_search_with_score(\n",
    "    query=\"who is best baller\",\n",
    "    k=1\n",
    ")"
   ]
  },
  {
   "cell_type": "code",
   "execution_count": null,
   "id": "f75f7dcc",
   "metadata": {},
   "outputs": [],
   "source": []
  }
 ],
 "metadata": {
  "kernelspec": {
   "display_name": "venv",
   "language": "python",
   "name": "python3"
  },
  "language_info": {
   "codemirror_mode": {
    "name": "ipython",
    "version": 3
   },
   "file_extension": ".py",
   "mimetype": "text/x-python",
   "name": "python",
   "nbconvert_exporter": "python",
   "pygments_lexer": "ipython3",
   "version": "3.12.5"
  }
 },
 "nbformat": 4,
 "nbformat_minor": 5
}
